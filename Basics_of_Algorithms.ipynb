{
 "cells": [
  {
   "cell_type": "markdown",
   "metadata": {},
   "source": [
    "### Minimal Cashflow Using Greedy Algorithem"
   ]
  },
  {
   "cell_type": "code",
   "execution_count": 1,
   "metadata": {},
   "outputs": [],
   "source": [
    "def getMin(arr): \n",
    "    \"\"\" this finds the index of person with minimum net amount \"\"\"\n",
    "    minInd = 0\n",
    "    N = len(arr)\n",
    "    for i in range(1, N): \n",
    "        if (arr[i] < arr[minInd]): \n",
    "            minInd = i \n",
    "    return minInd \n",
    "\n",
    "def getMax(arr): \n",
    "    \"\"\" this finds the index person with maximum net amount \"\"\"\n",
    "    N = len(arr)\n",
    "    maxInd = 0\n",
    "    for i in range(1, N): \n",
    "        if (arr[i] > arr[maxInd]): \n",
    "            maxInd = i \n",
    "    return maxInd\n",
    "\n",
    "def minOf2(x, y): \n",
    "    \"\"\" Returns min among two values\"\"\"\n",
    "    return x if x < y else y \n",
    "\n",
    "def minCashFlowAlgo(amount): \n",
    "    \"\"\" Finds max debit to be given and max credit to be taken.\n",
    "        Then max debit is settled with max credit and recurs for\n",
    "        next max debit and credits. \n",
    "        Terminates when max credit or debit becomes 0\"\"\"\n",
    "    \n",
    "    mxCredit = getMax(amount) \n",
    "    mxDebit = getMin(amount) \n",
    "    if (amount[mxCredit] == 0 and amount[mxDebit] == 0): \n",
    "        return 0\n",
    "    min_ = minOf2(-amount[mxDebit], amount[mxCredit]) \n",
    "    amount[mxCredit] -=min_\n",
    "    amount[mxDebit] += min_\n",
    "    print(\"Person \" , mxDebit , \" pays \" , min_\n",
    "        , \" to \" , \"Person \" , mxCredit)\n",
    "    minCashFlowAlgo(amount) \n"
   ]
  },
  {
   "cell_type": "code",
   "execution_count": 2,
   "metadata": {},
   "outputs": [],
   "source": [
    "def FindMinCashFlow(graph):\n",
    "    \n",
    "    \"\"\" Graph [i][j] indicates the amount that person i needs to pay person j.\n",
    "        Calculates the net amount for each person makes it as a list and\n",
    "        Calls the minCashFlow algorithm on to that list\"\"\"\n",
    "    \n",
    "    N = len(graph)\n",
    "    amount = [0 for i in range(N)] \n",
    "    for p in range(N): \n",
    "        for i in range(N): \n",
    "            amount[p] += (graph[i][p] - graph[p][i]) \n",
    "  \n",
    "    minCashFlowAlgo(amount) "
   ]
  },
  {
   "cell_type": "code",
   "execution_count": 3,
   "metadata": {},
   "outputs": [],
   "source": [
    "# testing \n",
    "graph = [[0, 1000, 2000,1000], \n",
    "        [0, 0, 5000,0], \n",
    "        [0, 0, 0,0],\n",
    "        [0,8000,0,0]]\n",
    "\n",
    "FindMinCashFlow(graph) "
   ]
  },
  {
   "cell_type": "markdown",
   "metadata": {},
   "source": [
    "### Shortest distance from  a given vertex to the rest"
   ]
  },
  {
   "cell_type": "code",
   "execution_count": 4,
   "metadata": {},
   "outputs": [],
   "source": [
    "# Defining a class to form Graph and add vertices,edges and \n",
    "# corresponding weights\n",
    "\n",
    "from collections import defaultdict\n",
    "class Graph:\n",
    "    def __init__(self):\n",
    "        self.nodes = set()\n",
    "        self.edges = defaultdict(list)\n",
    "        self.distances = {}\n",
    "    \n",
    "    def addNode(self,value):\n",
    "        self.nodes.add(value)\n",
    "    \n",
    "    def addEdge(self, fromNode, toNode, distance):\n",
    "        self.edges[fromNode].append(toNode)\n",
    "        self.distances[(fromNode, toNode)] = distance"
   ]
  },
  {
   "cell_type": "code",
   "execution_count": 5,
   "metadata": {},
   "outputs": [],
   "source": [
    "def dijkstra(graph, initial):\n",
    "    \n",
    "    \"\"\" Algorithem that takes a graph and Source vertex.\n",
    "    Returns shortest distance from the source vertex to each vertex\n",
    "    and the corresponding path \"\"\"\n",
    "    \n",
    "    visited = {initial : 0}\n",
    "    path = defaultdict(list)\n",
    "\n",
    "    nodes = set(graph.nodes)\n",
    "\n",
    "    while nodes:\n",
    "        minNode = None\n",
    "        for node in nodes:\n",
    "            if node in visited:\n",
    "                if minNode is None:\n",
    "                    minNode = node\n",
    "                elif visited[node] < visited[minNode]:\n",
    "                    minNode = node\n",
    "        if minNode is None:\n",
    "            break\n",
    "        nodes.remove(minNode)\n",
    "        currentWeight = visited[minNode]\n",
    "\n",
    "        for edge in graph.edges[minNode]:\n",
    "            weight = currentWeight + graph.distances[(minNode, edge)]\n",
    "            if edge not in visited or weight < visited[edge]:\n",
    "                visited[edge] = weight\n",
    "                path[edge].append(minNode)\n",
    "    \n",
    "    return visited, path"
   ]
  },
  {
   "cell_type": "code",
   "execution_count": 6,
   "metadata": {},
   "outputs": [],
   "source": [
    "# Defining a graph\n",
    "customGraph = Graph()\n",
    "customGraph.addNode(\"A\")\n",
    "customGraph.addNode(\"B\")\n",
    "customGraph.addNode(\"C\")\n",
    "customGraph.addNode(\"D\")\n",
    "customGraph.addNode(\"E\")\n",
    "customGraph.addNode(\"F\")\n",
    "customGraph.addNode(\"G\")\n",
    "customGraph.addEdge(\"A\", \"B\", 2)\n",
    "customGraph.addEdge(\"A\", \"C\", 5)\n",
    "customGraph.addEdge(\"B\", \"C\", 6)\n",
    "customGraph.addEdge(\"B\", \"D\", 1)\n",
    "customGraph.addEdge(\"B\", \"E\", 3)\n",
    "customGraph.addEdge(\"C\", \"F\", 8)\n",
    "customGraph.addEdge(\"D\", \"E\", 4)\n",
    "customGraph.addEdge(\"E\", \"G\", 9)\n",
    "customGraph.addEdge(\"F\", \"G\", 7)"
   ]
  },
  {
   "cell_type": "code",
   "execution_count": 7,
   "metadata": {},
   "outputs": [],
   "source": [
    "dijkstra(customGraph, \"A\")"
   ]
  },
  {
   "cell_type": "markdown",
   "metadata": {},
   "source": [
    "### Solution to Stranger Things problem"
   ]
  },
  {
   "cell_type": "code",
   "execution_count": 8,
   "metadata": {},
   "outputs": [],
   "source": [
    "def bitsoncount(x):\n",
    "    ''' Count 1's in a Given number's binary representation '''\n",
    "    return bin(x).count('1')\n",
    "\n",
    "def gcd(x, y):\n",
    "    if y:\n",
    "        return gcd(y, x % y)\n",
    "    return x\n",
    "\n",
    "def lcm(x, y):\n",
    "    return (x * y)/gcd(x, y)\n",
    "\n",
    "def KilledMonsters(a,m,n):\n",
    "    odd = 0\n",
    "    even = 0\n",
    "    p = 1\n",
    "    power_set_size = 1<<n\n",
    "    \n",
    "    # Run from counter 000..0 to 111..1 i.e. 0 to 2^n (cardinality of power set)\n",
    "    for counter in range(1, power_set_size):\n",
    "        p = 1\n",
    "        factors = []\n",
    "        for j in range(n):\n",
    "            # Check if jth bit in the counter is set \n",
    "            # If set then keep finding the LCM of all numbers in the set j\n",
    "            if (counter & (1 << j)):\n",
    "                p = lcm(p, a[j])\n",
    "        # if set bits is odd, then add to\n",
    "        # the number of multiples\n",
    "        if (bitsoncount(counter) % 2 !=0):\n",
    "            odd += int(m // p)\n",
    "        else:\n",
    "\n",
    "            even += int(m // p)\n",
    "\n",
    "    return int(odd - even)\n"
   ]
  },
  {
   "cell_type": "code",
   "execution_count": 9,
   "metadata": {},
   "outputs": [
    {
     "name": "stdout",
     "output_type": "stream",
     "text": [
      "1\n",
      "12\n",
      "4 7 18 16 14 16 7 13 10 2 3 8 \n",
      "691\n",
      "508\n"
     ]
    }
   ],
   "source": [
    "t = int(input())\n",
    "for idx in range(t):\n",
    "    n = int(input())\n",
    "    a = sorted(set(map(int, input().split())))\n",
    "    n = len(a)\n",
    "    k = int(input())\n",
    "    print(KilledMonsters(a, k, n))"
   ]
  },
  {
   "cell_type": "code",
   "execution_count": null,
   "metadata": {},
   "outputs": [],
   "source": []
  }
 ],
 "metadata": {
  "kernelspec": {
   "display_name": "Python 3",
   "language": "python",
   "name": "python3"
  },
  "language_info": {
   "codemirror_mode": {
    "name": "ipython",
    "version": 3
   },
   "file_extension": ".py",
   "mimetype": "text/x-python",
   "name": "python",
   "nbconvert_exporter": "python",
   "pygments_lexer": "ipython3",
   "version": "3.6.9"
  }
 },
 "nbformat": 4,
 "nbformat_minor": 4
}
